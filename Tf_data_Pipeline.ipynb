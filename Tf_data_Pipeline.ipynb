{
  "nbformat": 4,
  "nbformat_minor": 0,
  "metadata": {
    "colab": {
      "provenance": []
    },
    "kernelspec": {
      "name": "python3",
      "display_name": "Python 3"
    },
    "language_info": {
      "name": "python"
    }
  },
  "cells": [
    {
      "cell_type": "code",
      "execution_count": 1,
      "metadata": {
        "id": "mmaig12VZ8aj"
      },
      "outputs": [],
      "source": [
        "import tensorflow as tf"
      ]
    },
    {
      "cell_type": "code",
      "source": [
        "dataset = tf.data.Dataset.from_tensor_slices([1, 2,-1, 3])\n",
        "for element in dataset:\n",
        "  print(element)"
      ],
      "metadata": {
        "colab": {
          "base_uri": "https://localhost:8080/"
        },
        "id": "PRAN75-cbpge",
        "outputId": "24f9ff2c-227d-4469-a807-9c32e248eba8"
      },
      "execution_count": 7,
      "outputs": [
        {
          "output_type": "stream",
          "name": "stdout",
          "text": [
            "tf.Tensor(1, shape=(), dtype=int32)\n",
            "tf.Tensor(2, shape=(), dtype=int32)\n",
            "tf.Tensor(-1, shape=(), dtype=int32)\n",
            "tf.Tensor(3, shape=(), dtype=int32)\n"
          ]
        }
      ]
    },
    {
      "cell_type": "code",
      "source": [
        "#what if i want to print only first no   \n",
        "for element in dataset.take(1):\n",
        "  print(element)"
      ],
      "metadata": {
        "colab": {
          "base_uri": "https://localhost:8080/"
        },
        "id": "Yk8xM_RdbqD-",
        "outputId": "4772327b-5ba3-46e3-d415-74db761fdd63"
      },
      "execution_count": 6,
      "outputs": [
        {
          "output_type": "stream",
          "name": "stdout",
          "text": [
            "tf.Tensor(1, shape=(), dtype=int32)\n"
          ]
        }
      ]
    },
    {
      "cell_type": "code",
      "source": [
        "#what if i want to filter based on some condtions\n",
        "dataset=dataset.filter(lambda x: x > 0)\n",
        "for element in dataset:\n",
        "  print(element)"
      ],
      "metadata": {
        "colab": {
          "base_uri": "https://localhost:8080/"
        },
        "id": "7owPHLrjcZ9N",
        "outputId": "c2caa6fe-0fd4-4730-8a74-548ff76cc63f"
      },
      "execution_count": 8,
      "outputs": [
        {
          "output_type": "stream",
          "name": "stdout",
          "text": [
            "tf.Tensor(1, shape=(), dtype=int32)\n",
            "tf.Tensor(2, shape=(), dtype=int32)\n",
            "tf.Tensor(3, shape=(), dtype=int32)\n"
          ]
        }
      ]
    },
    {
      "cell_type": "code",
      "source": [
        "#what if i want to apply some common parameter to all valuse    i can use map()\n",
        "dataset=dataset.map(lambda x: x*5)\n",
        "for element in dataset:\n",
        "  print(element)"
      ],
      "metadata": {
        "colab": {
          "base_uri": "https://localhost:8080/"
        },
        "id": "17pwnh2BdCKU",
        "outputId": "66779141-2973-4e5f-f449-756190c659fb"
      },
      "execution_count": 9,
      "outputs": [
        {
          "output_type": "stream",
          "name": "stdout",
          "text": [
            "tf.Tensor(5, shape=(), dtype=int32)\n",
            "tf.Tensor(10, shape=(), dtype=int32)\n",
            "tf.Tensor(15, shape=(), dtype=int32)\n"
          ]
        }
      ]
    },
    {
      "cell_type": "code",
      "source": [
        "# what abount shuffling\n",
        "dataset=dataset.shuffle(3)\n",
        "for element in dataset:\n",
        "  print(element)"
      ],
      "metadata": {
        "colab": {
          "base_uri": "https://localhost:8080/"
        },
        "id": "r7Fbx_dFdh1t",
        "outputId": "ba69c9c9-eca5-4a1f-aff6-a4f0f0999fb6"
      },
      "execution_count": 10,
      "outputs": [
        {
          "output_type": "stream",
          "name": "stdout",
          "text": [
            "tf.Tensor(15, shape=(), dtype=int32)\n",
            "tf.Tensor(5, shape=(), dtype=int32)\n",
            "tf.Tensor(10, shape=(), dtype=int32)\n"
          ]
        }
      ]
    },
    {
      "cell_type": "code",
      "source": [
        "#what about batching\n",
        "dataset=dataset.batch(2)\n",
        "for element in dataset:\n",
        "  print(element)"
      ],
      "metadata": {
        "colab": {
          "base_uri": "https://localhost:8080/"
        },
        "id": "cNJmhaTgeN7k",
        "outputId": "2a99b1f8-77a2-4ff7-9ab4-a2fff569ced3"
      },
      "execution_count": 11,
      "outputs": [
        {
          "output_type": "stream",
          "name": "stdout",
          "text": [
            "tf.Tensor([ 5 15], shape=(2,), dtype=int32)\n",
            "tf.Tensor([10], shape=(1,), dtype=int32)\n"
          ]
        }
      ]
    },
    {
      "cell_type": "code",
      "source": [
        "#chaining all the above methods\n",
        "data=tf.data.Dataset.from_tensor_slices([1, 2,-1, 3])"
      ],
      "metadata": {
        "id": "p4PRZRiDemvz"
      },
      "execution_count": 12,
      "outputs": []
    },
    {
      "cell_type": "code",
      "source": [
        "data.filter(lambda x:x >0).map(lambda y:y*10).shuffle(3).batch(2)\n",
        "for element in dataset:\n",
        "  print(element)"
      ],
      "metadata": {
        "colab": {
          "base_uri": "https://localhost:8080/"
        },
        "id": "yQhRAkYAfalV",
        "outputId": "1bcd6c4f-b159-4bbd-cf4c-d82a92676331"
      },
      "execution_count": 13,
      "outputs": [
        {
          "output_type": "stream",
          "name": "stdout",
          "text": [
            "tf.Tensor([ 5 10], shape=(2,), dtype=int32)\n",
            "tf.Tensor([15], shape=(1,), dtype=int32)\n"
          ]
        }
      ]
    },
    {
      "cell_type": "markdown",
      "source": [
        "#lets work with image data"
      ],
      "metadata": {
        "id": "RIZTOjhUlm2O"
      }
    },
    {
      "cell_type": "code",
      "source": [
        "im_data=tf.data.Dataset.list_files('/content/drive/MyDrive/tensorflow_plural/img*/*/*',shuffle='False')\n",
        "for file in im_data.take(3):\n",
        "  print(file)"
      ],
      "metadata": {
        "colab": {
          "base_uri": "https://localhost:8080/"
        },
        "id": "rvQM9UjqgDa7",
        "outputId": "34f49947-fe88-4eb0-af86-65f6f822dec2"
      },
      "execution_count": 18,
      "outputs": [
        {
          "output_type": "stream",
          "name": "stdout",
          "text": [
            "tf.Tensor(b'/content/drive/MyDrive/tensorflow_plural/img/cat/1633802661589_Labrador Retriever Female Puppy for sale.jpg', shape=(), dtype=string)\n",
            "tf.Tensor(b'/content/drive/MyDrive/tensorflow_plural/img/dog/1633802908945_Fantail Pigeons for sale.jpg', shape=(), dtype=string)\n",
            "tf.Tensor(b'/content/drive/MyDrive/tensorflow_plural/img/dog/1633802883923_King Pigeon for sale.jpg', shape=(), dtype=string)\n"
          ]
        }
      ]
    },
    {
      "cell_type": "code",
      "source": [
        "class_name=['cat','dog']\n",
        "img_count= len(im_data)\n",
        "img_count"
      ],
      "metadata": {
        "colab": {
          "base_uri": "https://localhost:8080/"
        },
        "id": "HKYZFWzKmn2y",
        "outputId": "dcb04415-1dda-4f66-f071-cc1ab964a37c"
      },
      "execution_count": 19,
      "outputs": [
        {
          "output_type": "execute_result",
          "data": {
            "text/plain": [
              "308"
            ]
          },
          "metadata": {},
          "execution_count": 19
        }
      ]
    },
    {
      "cell_type": "markdown",
      "source": [
        "# split"
      ],
      "metadata": {
        "id": "m9i8COzFpQNj"
      }
    },
    {
      "cell_type": "code",
      "source": [
        "train_siz = int(img_count*0.8)\n",
        "train_ds= im_data.take(train_siz)\n",
        "test_ds= im_data.skip(train_siz)"
      ],
      "metadata": {
        "id": "reFTYBGIpCZh"
      },
      "execution_count": 21,
      "outputs": []
    },
    {
      "cell_type": "code",
      "source": [
        "s='/content/drive/MyDrive/tensorflow_plural/img/cat/1633802661589_Labrador Retriever Female Puppy for sale.jpg'\n",
        "s.split('/')[6]"
      ],
      "metadata": {
        "colab": {
          "base_uri": "https://localhost:8080/",
          "height": 36
        },
        "id": "N5m9WfGuqJ_g",
        "outputId": "6732b042-c559-44bc-ddad-a9368fd937af"
      },
      "execution_count": 28,
      "outputs": [
        {
          "output_type": "execute_result",
          "data": {
            "text/plain": [
              "'cat'"
            ],
            "application/vnd.google.colaboratory.intrinsic+json": {
              "type": "string"
            }
          },
          "metadata": {},
          "execution_count": 28
        }
      ]
    },
    {
      "cell_type": "code",
      "source": [
        "def get_label(file_path):\n",
        "\n",
        "  import os\n",
        "  return tf.strings.split(file_path,os.path.sep)[6]"
      ],
      "metadata": {
        "id": "ukSf_a2QrB0X"
      },
      "execution_count": 41,
      "outputs": []
    },
    {
      "cell_type": "code",
      "source": [
        "def preprocess_img(file_path):\n",
        "  label= get_label(file_path)\n",
        "  img= tf.io.read_file(file_path)\n",
        "  img= tf.image.decode_jpeg(img)\n",
        "  img= tf.image.resize(img,[128,128])\n",
        "\n",
        "  return label,img"
      ],
      "metadata": {
        "id": "dX69ishuwQJp"
      },
      "execution_count": 42,
      "outputs": []
    },
    {
      "cell_type": "code",
      "source": [
        "train_ds.map(get_label)"
      ],
      "metadata": {
        "colab": {
          "base_uri": "https://localhost:8080/"
        },
        "id": "FHpsdtfKrV1w",
        "outputId": "564ce4f0-df27-4333-bc5c-b84abac7507a"
      },
      "execution_count": 43,
      "outputs": [
        {
          "output_type": "execute_result",
          "data": {
            "text/plain": [
              "<MapDataset element_spec=TensorSpec(shape=(), dtype=tf.string, name=None)>"
            ]
          },
          "metadata": {},
          "execution_count": 43
        }
      ]
    },
    {
      "cell_type": "code",
      "source": [
        "for img,label in train_ds.map(preprocess_img).take(3):\n",
        "  print('label',label)\n",
        "  print('img',img)"
      ],
      "metadata": {
        "colab": {
          "base_uri": "https://localhost:8080/"
        },
        "id": "6zomDu79tliv",
        "outputId": "e969918c-22ba-43fd-efa5-fe518ad9fe22"
      },
      "execution_count": 46,
      "outputs": [
        {
          "output_type": "stream",
          "name": "stdout",
          "text": [
            "label tf.Tensor(\n",
            "[[[181.5625   179.5625   180.5625  ]\n",
            "  [179.74219  178.07031  178.90625 ]\n",
            "  [219.39062  219.39062  219.39062 ]\n",
            "  ...\n",
            "  [182.98438  189.71094  149.89844 ]\n",
            "  [138.00781  145.00781   95.484375]\n",
            "  [116.65625  123.65625   69.82031 ]]\n",
            "\n",
            " [[201.20529  199.20529  200.20529 ]\n",
            "  [198.36603  196.69415  197.53009 ]\n",
            "  [226.71765  226.71765  226.71765 ]\n",
            "  ...\n",
            "  [159.74875  166.68146  126.86896 ]\n",
            "  [135.55762  143.18784   94.924835]\n",
            "  [117.451385 125.91797   71.45181 ]]\n",
            "\n",
            " [[228.35849  227.53818  227.94833 ]\n",
            "  [225.02072  224.33499  224.67786 ]\n",
            "  [237.73584  237.73584  237.73584 ]\n",
            "  ...\n",
            "  [153.25159  161.164    121.78006 ]\n",
            "  [130.53214  138.95792   92.18927 ]\n",
            "  [107.44858  116.983734  63.491547]]\n",
            "\n",
            " ...\n",
            "\n",
            " [[ 80.67969   77.67969   72.67969 ]\n",
            "  [ 84.78906   81.78906   76.78906 ]\n",
            "  [ 86.46094   83.46094   78.46094 ]\n",
            "  ...\n",
            "  [ 46.363983  42.77414   29.54367 ]\n",
            "  [ 47.38922   43.456512  31.254639]\n",
            "  [ 56.983368  54.486267  40.765503]]\n",
            "\n",
            " [[ 85.44922   82.44922   76.95703 ]\n",
            "  [ 89.55859   86.55859   81.147156]\n",
            "  [ 91.16318   88.16318   83.16318 ]\n",
            "  ...\n",
            "  [ 54.410004  50.671722  35.56021 ]\n",
            "  [ 60.979156  56.610657  43.666656]\n",
            "  [ 68.775635  64.996124  49.900635]]\n",
            "\n",
            " [[ 89.21875   86.21875   79.21875 ]\n",
            "  [ 93.328125  90.328125  83.65625 ]\n",
            "  [ 94.72656   91.72656   86.72656 ]\n",
            "  ...\n",
            "  [ 64.61719   58.617188  43.164062]\n",
            "  [ 73.671875  67.671875  53.34375 ]\n",
            "  [ 75.890625  69.890625  54.      ]]], shape=(128, 128, 3), dtype=float32)\n",
            "img tf.Tensor(b'dog', shape=(), dtype=string)\n",
            "label tf.Tensor(\n",
            "[[[166.54688  101.546875  83.546875]\n",
            "  [177.14844  111.984375  94.3125  ]\n",
            "  [183.27344  117.27344  101.27344 ]\n",
            "  ...\n",
            "  [100.90625  121.90625  126.90625 ]\n",
            "  [106.17969  125.50781  132.17969 ]\n",
            "  [107.       126.       133.      ]]\n",
            "\n",
            " [[163.65494   98.65494   80.65494 ]\n",
            "  [176.7656   111.60153   93.92966 ]\n",
            "  [184.36896  118.36896  102.36896 ]\n",
            "  ...\n",
            "  [103.0325   124.0325   129.0325  ]\n",
            "  [104.53641  123.86453  130.5364  ]\n",
            "  [106.163635 125.163635 132.16364 ]]\n",
            "\n",
            " [[160.48059   96.66028   78.66028 ]\n",
            "  [176.83417  112.94656   95.17792 ]\n",
            "  [185.90625  121.67578  105.08594 ]\n",
            "  ...\n",
            "  [ 99.48706  119.30737  124.89722 ]\n",
            "  [103.51614  122.65073  128.9263  ]\n",
            "  [108.12097  127.12097  133.53113 ]]\n",
            "\n",
            " ...\n",
            "\n",
            " [[156.18915  161.89429  162.0925  ]\n",
            "  [176.0039   182.82422  182.65839 ]\n",
            "  [201.59766  209.12613  209.78516 ]\n",
            "  ...\n",
            "  [169.50226  178.74948  183.63116 ]\n",
            "  [170.29599  183.66922  192.10974 ]\n",
            "  [168.19833  185.97958  195.9249  ]]\n",
            "\n",
            " [[153.75827  162.26392  164.26392 ]\n",
            "  [180.41397  189.15225  191.15225 ]\n",
            "  [203.61792  212.7685   214.90308 ]\n",
            "  ...\n",
            "  [172.58417  180.24432  184.07068 ]\n",
            "  [174.53384  187.87888  195.73044 ]\n",
            "  [174.47873  192.27344  202.19183 ]]\n",
            "\n",
            " [[161.58594  171.64062  173.64062 ]\n",
            "  [192.11719  203.11719  205.11719 ]\n",
            "  [208.       219.       221.54688 ]\n",
            "  ...\n",
            "  [172.17188  179.07812  180.98438 ]\n",
            "  [175.16406  189.01562  195.35938 ]\n",
            "  [175.94531  193.78125  203.61719 ]]], shape=(128, 128, 3), dtype=float32)\n",
            "img tf.Tensor(b'dog', shape=(), dtype=string)\n",
            "label tf.Tensor(\n",
            "[[[230.72656 217.78125 200.83594]\n",
            "  [226.82031 214.65625 199.80469]\n",
            "  [231.82031 219.91406 211.46094]\n",
            "  ...\n",
            "  [211.35938 184.08594 173.08594]\n",
            "  [217.17969 196.03125 185.03125]\n",
            "  [227.45312 209.34375 199.28906]]\n",
            "\n",
            " [[227.24564 212.12106 195.88843]\n",
            "  [227.83337 215.0391  200.18753]\n",
            "  [229.28177 216.96323 208.71625]\n",
            "  ...\n",
            "  [226.70255 199.42911 188.42911]\n",
            "  [232.87625 209.83716 200.72781]\n",
            "  [224.71432 205.05591 195.83759]]\n",
            "\n",
            " [[226.89276 210.40247 193.2873 ]\n",
            "  [231.80911 217.23312 202.18802]\n",
            "  [229.47153 216.26727 207.23047]\n",
            "  ...\n",
            "  [234.07031 205.18863 195.10104]\n",
            "  [238.88016 212.9613  205.05896]\n",
            "  [222.17981 199.09879 192.41608]]\n",
            "\n",
            " ...\n",
            "\n",
            " [[201.38382 196.38382 192.38382]\n",
            "  [199.58807 194.58807 190.75214]\n",
            "  [196.73273 191.73273 188.73273]\n",
            "  ...\n",
            "  [169.42856 160.42856 163.42856]\n",
            "  [169.58984 160.58984 165.26172]\n",
            "  [169.97757 160.97757 165.97757]]\n",
            "\n",
            " [[205.38281 200.38281 196.38281]\n",
            "  [202.83594 197.83594 194.     ]\n",
            "  [198.60458 193.60458 190.60458]\n",
            "  ...\n",
            "  [168.7539  159.7539  162.7539 ]\n",
            "  [168.7539  159.7539  164.42578]\n",
            "  [169.69922 160.69922 165.69922]]\n",
            "\n",
            " [[206.89062 201.89062 197.89062]\n",
            "  [204.34375 199.34375 195.50781]\n",
            "  [199.90625 194.90625 191.90625]\n",
            "  ...\n",
            "  [168.      159.      162.     ]\n",
            "  [168.      159.      163.67188]\n",
            "  [168.94531 159.94531 164.94531]]], shape=(128, 128, 3), dtype=float32)\n",
            "img tf.Tensor(b'dog', shape=(), dtype=string)\n"
          ]
        }
      ]
    },
    {
      "cell_type": "code",
      "source": [],
      "metadata": {
        "id": "6bsIW7ZauEjn"
      },
      "execution_count": null,
      "outputs": []
    }
  ]
}